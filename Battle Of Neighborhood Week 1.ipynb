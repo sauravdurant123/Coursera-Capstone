{
 "cells": [
  {
   "cell_type": "markdown",
   "metadata": {},
   "source": [
    "# **Coursera Capstone Project**\n",
    "## **The Battle Of Neighborhoods Week - 1**"
   ]
  },
  {
   "cell_type": "markdown",
   "metadata": {},
   "source": [
    "### **Saurav Roy**"
   ]
  },
  {
   "cell_type": "code",
   "execution_count": 2,
   "metadata": {},
   "outputs": [
    {
     "name": "stdout",
     "output_type": "stream",
     "text": [
      "Collecting package metadata: done\n",
      "Solving environment: - \n",
      "The environment is inconsistent, please check the package plan carefully\n",
      "The following packages are causing the inconsistency:\n",
      "\n",
      "  - defaults/linux-64::anaconda==5.3.1=py37_0\n",
      "  - defaults/linux-64::astropy==3.0.4=py37h14c3975_0\n",
      "  - defaults/linux-64::bkcharts==0.2=py37_0\n",
      "  - defaults/linux-64::blaze==0.11.3=py37_0\n",
      "  - defaults/linux-64::bokeh==0.13.0=py37_0\n",
      "  - defaults/linux-64::bottleneck==1.2.1=py37h035aef0_1\n",
      "  - defaults/linux-64::dask==0.19.1=py37_0\n",
      "  - defaults/linux-64::datashape==0.5.4=py37_1\n",
      "  - defaults/linux-64::mkl-service==1.1.2=py37h90e4bf4_5\n",
      "  - defaults/linux-64::numba==0.39.0=py37h04863e7_0\n",
      "  - defaults/linux-64::numexpr==2.6.8=py37hd89afb7_0\n",
      "  - defaults/linux-64::odo==0.5.1=py37_0\n",
      "  - defaults/linux-64::pytables==3.4.4=py37ha205bf6_0\n",
      "  - defaults/linux-64::pytest-arraydiff==0.2=py37h39e3cac_0\n",
      "  - defaults/linux-64::pytest-astropy==0.4.0=py37_0\n",
      "  - defaults/linux-64::pytest-doctestplus==0.1.3=py37_0\n",
      "  - defaults/linux-64::pywavelets==1.0.0=py37hdd07704_0\n",
      "  - defaults/linux-64::scikit-image==0.14.0=py37hf484d3e_1\n",
      "done\n",
      "\n",
      "## Package Plan ##\n",
      "\n",
      "  environment location: /home/jupyterlab/conda\n",
      "\n",
      "  added / updated specs:\n",
      "    - folium=0.5.0\n",
      "\n",
      "\n",
      "The following packages will be downloaded:\n",
      "\n",
      "    package                    |            build\n",
      "    ---------------------------|-----------------\n",
      "    ca-certificates-2019.6.16  |       hecc5488_0         145 KB  conda-forge\n",
      "    certifi-2019.6.16          |           py36_0         148 KB  conda-forge\n",
      "    ------------------------------------------------------------\n",
      "                                           Total:         293 KB\n",
      "\n",
      "The following packages will be UPDATED:\n",
      "\n",
      "  ca-certificates                       2019.3.9-hecc5488_0 --> 2019.6.16-hecc5488_0\n",
      "  certifi                                   2019.3.9-py36_0 --> 2019.6.16-py36_0\n",
      "\n",
      "\n",
      "\n",
      "Downloading and Extracting Packages\n",
      "certifi-2019.6.16    | 148 KB    | ##################################### | 100% \n",
      "ca-certificates-2019 | 145 KB    | ##################################### | 100% \n",
      "Preparing transaction: done\n",
      "Verifying transaction: done\n",
      "Executing transaction: done\n",
      "Libraries imported.\n"
     ]
    }
   ],
   "source": [
    "import numpy as np # library to handle data in a vectorized manner\n",
    "import time\n",
    "import pandas as pd # library for data analsysis\n",
    "pd.set_option('display.max_columns', None)\n",
    "pd.set_option('display.max_rows', None)\n",
    "\n",
    "import json # library to handle JSON files\n",
    "import requests # library to handle requests\n",
    "from pandas.io.json import json_normalize # tranform JSON file into a pandas dataframe\n",
    "\n",
    "from geopy.geocoders import Nominatim # convert an address into latitude and longitude values\n",
    "!conda install -c conda-forge folium=0.5.0 --yes # uncomment this line if you haven't completed the Foursquare API lab\n",
    "import folium # map rendering library\n",
    "\n",
    "print('Libraries imported.')"
   ]
  },
  {
   "cell_type": "markdown",
   "metadata": {},
   "source": [
    "### **Coursera Capstone - Report Content**\n",
    "1.Introduction Section:⁃ Discussion of the business problem and the interested audience in this project.\n",
    "\n",
    "2.Data Section:⁃ Description of the data that will be used to solve the problem and the sources.\n",
    "\n",
    "3.Methodology section:⁃ Discussion and description of exploratory data analysis carried out, any inferential statistical testing performed, and if any machine learnings were used establishing the strategy and purposes.\n",
    "\n",
    "4.Results section:⁃ Discussion of the results.\n",
    "\n",
    "5.Discussion section:⁃ Elaboration and discussion on any observations noted and any recommendations suggested based on the results.\n",
    "\n",
    "6.Conclusion section:⁃ Report Conclusion."
   ]
  },
  {
   "cell_type": "code",
   "execution_count": 3,
   "metadata": {},
   "outputs": [],
   "source": [
    "# A description of the problem and a discussion of the background. (15 marks)"
   ]
  },
  {
   "cell_type": "markdown",
   "metadata": {},
   "source": [
    "# **1. Introduction Section :**\n",
    "## **Discussion of the business problem and the audience who would be interested in this project.**\n",
    "### **Description of the Problem and Background**\n",
    "### **Scenario:**\n",
    "I am a student pursuing my undergraduate degree in Electronics And Electrical Engineering in Kalinga Institute Of Technology, Orissa. I currently live there as well and I enjoy many ammenities and venues in the area which is Patia, such as various international cousine restaurants, cafes, food shops and entertainment. I want to pursue my post graduate degree in US and have gotten a chance to study in New York University. I am very excited and I want to use this opportunity to practice my learnings in Coursera in order to answer relevant questions arisen. The key question is : How can I find a convenient and enjoyable place similar to mine now in Orissa? Certainly, I can use available real estate apps and Google but the idea is to use and apply myself the learned tools during the course. In order to make a comparison and evaluation of the rental options in Manhattan NY, I must set some basis, therefore the apartment in Manhattan must meet the following demands:\n",
    "\n",
    "1. apartment must be 2 or 3 bedrooms\n",
    "2. desired location is near a metro station in the Manhattan area and within 1.0 mile (1.6 km) radius\n",
    "3. price of rent not exceed $7,000 per month\n",
    "4. top ammenities in the selected neighborhood shall be similar to current residence\n",
    "5. desirable to have venues such as coffee shops, restaurants, wine stores, gym and food shops\n",
    "6. as a reference, I have included a map of venues near current residence in Orissa.\n",
    "\n",
    "## **Business Problem:**\n",
    "The challenge is to find a suitable apartment for rent in Manhattan NY that complies with the demands on location, price and venues. The data required to resolve this challenge is described in the following section 2, below.\n",
    "\n",
    "## **Interested Audience**\n",
    "I believe this is a relevant challenge with valid questions for anyone moving to other large city in US, EU or Asia. The same methodology can be applied in accordance to demands as applicable. This case is also applicable for anyone interested in exploring starting or locating a new business in any city. Lastly, it can also serve as a good practical exercise to develop Data Science skills."
   ]
  },
  {
   "cell_type": "code",
   "execution_count": 4,
   "metadata": {},
   "outputs": [],
   "source": [
    "# A description of the data and how it will be used to solve the problem. (15 marks)"
   ]
  },
  {
   "cell_type": "markdown",
   "metadata": {},
   "source": [
    "# **2. Data Section:**\n",
    "## **Description of the data and its sources that will be used to solve the problem**\n",
    "## **Description of the Data:**\n",
    "The following data is required to answer the issues of the problem:\n",
    "\n",
    "1. List of Boroughs and neighborhoods of Manhattan with their geodata (latitud and longitud)  \n",
    "2. List of Subway metro stations in Manhattan with their address location\n",
    "3. List of apartments for rent in Manhattan area with their addresses and price\n",
    "4. Preferably, a list of apartment for rent with additional information, such as price, address, area, # of beds, etc\n",
    "5. Venues for each Manhattan neighborhood ( than can be clustered)\n",
    "6. Venues for subway metro stations, as needed.\n",
    "\n",
    "## **How the data will be used to solve the problem**\n",
    "\n",
    "The data will be used as follows:\n",
    "\n",
    "1. Use Foursquare and geopy data to map top 10 venues for all Manhattan neighborhoods and clustered in groups ( as per Course LAB).\n",
    "2. Use foursquare and geopy data to map the location of subway metro stations , separately and on top of the above clustered map in order to be able to identify the venues and ammenities near each metro station, or explore each subway location separately.\n",
    "3. Use Foursquare and geopy data to map the location of rental places, in some form, linked to the subway locations.\n",
    "4. Create a map that depicts, for instance, the average rental price per square ft, around a radious of 1.0 mile (1.6 km) around each subway station - or a similar metrics. I will be able to quickly point to the popups to know the relative price per subway area.\n",
    "5. Addresses from rental locations will be converted to geodata( lat, long) using Geopy-distance and Nominatim.\n",
    "6. Data will be searched in open data sources if available, from real estate sites if open to reading, libraries or other government agencies such as Metro New York MTA, etc.\n",
    "\n",
    "The procesing of these DATA will allow to answer the key questions to make a decision:\n",
    "\n",
    "1. What is the cost of rent (per square ft) around a mile radius from each subway metro station?\n",
    "2. What is the area of Manhattan with best rental pricing that meets criteria established?\n",
    "3. What is the distance from work place ( Park Ave and 53 rd St) and the tentative future home?\n",
    "4. What are the venues of the two best places to live? How the prices compare?\n",
    "5. How venues distribute among Manhattan neighborhoods and around metro stations?\n",
    "6. Are there tradeoffs between size and price and location?\n",
    "7. Any other interesting statistical data findings of the real estate and overall data."
   ]
  },
  {
   "cell_type": "markdown",
   "metadata": {},
   "source": [
    "## **Reference of venues around current residence in Odisha for comparison to Manhattan place**"
   ]
  },
  {
   "cell_type": "code",
   "execution_count": 5,
   "metadata": {},
   "outputs": [
    {
     "name": "stdout",
     "output_type": "stream",
     "text": [
      "The geograpical coordinate of Orissa home are 20.360451, 85.8246128.\n"
     ]
    }
   ],
   "source": [
    "# Patia, Odisha\n",
    "address = 'Patia, Odisha'\n",
    "\n",
    "geolocator = Nominatim()\n",
    "location = geolocator.geocode(address)\n",
    "latitude = location.latitude\n",
    "longitude = location.longitude\n",
    "print('The geograpical coordinate of Orissa home are {}, {}.'.format(latitude, longitude))"
   ]
  },
  {
   "cell_type": "code",
   "execution_count": 6,
   "metadata": {},
   "outputs": [],
   "source": [
    "neighborhood_latitude=20.360451\n",
    "neighborhood_longitude=85.8246128"
   ]
  },
  {
   "cell_type": "code",
   "execution_count": 18,
   "metadata": {},
   "outputs": [
    {
     "data": {
      "text/plain": [
       "'https://api.foursquare.com/v2/venues/explore?&client_id=LX0IRYI3GM4JXNDQ3MWV4AWHULY0HQEBY5ONTV1RPR5MT0JT&client_secret=51R2VKBIANH1DLE25F3FGJ1NIDBXBJWL4HDFIW2NXAGZNM1H&v=20180602&ll=20.360451,85.8246128&radius=8000&limit=100'"
      ]
     },
     "execution_count": 18,
     "metadata": {},
     "output_type": "execute_result"
    }
   ],
   "source": [
    "LIMIT = 100 # limit of number of venues returned by Foursquare API\n",
    "radius = 8000 # define radius\n",
    "CLIENT_ID='LX0IRYI3GM4JXNDQ3MWV4AWHULY0HQEBY5ONTV1RPR5MT0JT'\n",
    "CLIENT_SECRET='51R2VKBIANH1DLE25F3FGJ1NIDBXBJWL4HDFIW2NXAGZNM1H'\n",
    "VERSION=20180602\n",
    "# create URL\n",
    "url = 'https://api.foursquare.com/v2/venues/explore?&client_id={}&client_secret={}&v={}&ll={},{}&radius={}&limit={}'.format(\n",
    "    CLIENT_ID, \n",
    "    CLIENT_SECRET, \n",
    "    VERSION, \n",
    "    neighborhood_latitude, \n",
    "    neighborhood_longitude, \n",
    "    radius, \n",
    "    LIMIT)\n",
    "url # display URL"
   ]
  },
  {
   "cell_type": "code",
   "execution_count": 19,
   "metadata": {},
   "outputs": [],
   "source": [
    "results = requests.get(url).json()\n",
    "#results"
   ]
  },
  {
   "cell_type": "code",
   "execution_count": 20,
   "metadata": {},
   "outputs": [],
   "source": [
    "# function that extracts the category of the venue\n",
    "def get_category_type(row):\n",
    "    try:\n",
    "        categories_list = row['categories']\n",
    "    except:\n",
    "        categories_list = row['venue.categories']\n",
    "        \n",
    "    if len(categories_list) == 0:\n",
    "        return None\n",
    "    else:\n",
    "        return categories_list[0]['name']"
   ]
  },
  {
   "cell_type": "code",
   "execution_count": 23,
   "metadata": {},
   "outputs": [
    {
     "data": {
      "text/html": [
       "<div>\n",
       "<style scoped>\n",
       "    .dataframe tbody tr th:only-of-type {\n",
       "        vertical-align: middle;\n",
       "    }\n",
       "\n",
       "    .dataframe tbody tr th {\n",
       "        vertical-align: top;\n",
       "    }\n",
       "\n",
       "    .dataframe thead th {\n",
       "        text-align: right;\n",
       "    }\n",
       "</style>\n",
       "<table border=\"1\" class=\"dataframe\">\n",
       "  <thead>\n",
       "    <tr style=\"text-align: right;\">\n",
       "      <th></th>\n",
       "      <th>name</th>\n",
       "      <th>categories</th>\n",
       "      <th>lat</th>\n",
       "      <th>lng</th>\n",
       "    </tr>\n",
       "  </thead>\n",
       "  <tbody>\n",
       "    <tr>\n",
       "      <th>0</th>\n",
       "      <td>cafe coffee day</td>\n",
       "      <td>Café</td>\n",
       "      <td>20.353923</td>\n",
       "      <td>85.818580</td>\n",
       "    </tr>\n",
       "    <tr>\n",
       "      <th>1</th>\n",
       "      <td>Bery's</td>\n",
       "      <td>Italian Restaurant</td>\n",
       "      <td>20.338782</td>\n",
       "      <td>85.808578</td>\n",
       "    </tr>\n",
       "    <tr>\n",
       "      <th>2</th>\n",
       "      <td>Mayfair Lagoon Hotel</td>\n",
       "      <td>Resort</td>\n",
       "      <td>20.301011</td>\n",
       "      <td>85.819437</td>\n",
       "    </tr>\n",
       "    <tr>\n",
       "      <th>3</th>\n",
       "      <td>Mamma Mia</td>\n",
       "      <td>Bakery</td>\n",
       "      <td>20.300342</td>\n",
       "      <td>85.819480</td>\n",
       "    </tr>\n",
       "    <tr>\n",
       "      <th>4</th>\n",
       "      <td>The Cellar</td>\n",
       "      <td>Irish Pub</td>\n",
       "      <td>20.300256</td>\n",
       "      <td>85.819252</td>\n",
       "    </tr>\n",
       "    <tr>\n",
       "      <th>5</th>\n",
       "      <td>Appetite</td>\n",
       "      <td>Fast Food Restaurant</td>\n",
       "      <td>20.291900</td>\n",
       "      <td>85.843102</td>\n",
       "    </tr>\n",
       "    <tr>\n",
       "      <th>6</th>\n",
       "      <td>Domino's Pizza</td>\n",
       "      <td>Pizza Place</td>\n",
       "      <td>20.354000</td>\n",
       "      <td>85.819000</td>\n",
       "    </tr>\n",
       "    <tr>\n",
       "      <th>7</th>\n",
       "      <td>Nandankanan Zoological Park</td>\n",
       "      <td>Zoo</td>\n",
       "      <td>20.395726</td>\n",
       "      <td>85.825553</td>\n",
       "    </tr>\n",
       "    <tr>\n",
       "      <th>8</th>\n",
       "      <td>Mainland China</td>\n",
       "      <td>Chinese Restaurant</td>\n",
       "      <td>20.291967</td>\n",
       "      <td>85.818862</td>\n",
       "    </tr>\n",
       "    <tr>\n",
       "      <th>9</th>\n",
       "      <td>Cafe Coffee Day</td>\n",
       "      <td>Coffee Shop</td>\n",
       "      <td>20.338902</td>\n",
       "      <td>85.806807</td>\n",
       "    </tr>\n",
       "  </tbody>\n",
       "</table>\n",
       "</div>"
      ],
      "text/plain": [
       "                          name            categories        lat        lng\n",
       "0              cafe coffee day                  Café  20.353923  85.818580\n",
       "1                       Bery's    Italian Restaurant  20.338782  85.808578\n",
       "2         Mayfair Lagoon Hotel                Resort  20.301011  85.819437\n",
       "3                    Mamma Mia                Bakery  20.300342  85.819480\n",
       "4                   The Cellar             Irish Pub  20.300256  85.819252\n",
       "5                     Appetite  Fast Food Restaurant  20.291900  85.843102\n",
       "6               Domino's Pizza           Pizza Place  20.354000  85.819000\n",
       "7  Nandankanan Zoological Park                   Zoo  20.395726  85.825553\n",
       "8               Mainland China    Chinese Restaurant  20.291967  85.818862\n",
       "9              Cafe Coffee Day           Coffee Shop  20.338902  85.806807"
      ]
     },
     "execution_count": 23,
     "metadata": {},
     "output_type": "execute_result"
    }
   ],
   "source": [
    "\n",
    "venues = results['response']['groups'][0]['items']\n",
    "    \n",
    "SGnearby_venues = json_normalize(venues) # flatten JSON\n",
    "\n",
    "# filter columns\n",
    "filtered_columns = ['venue.name', 'venue.categories', 'venue.location.lat', 'venue.location.lng']\n",
    "SGnearby_venues =SGnearby_venues.loc[:, filtered_columns]\n",
    "\n",
    "# filter the category for each row\n",
    "SGnearby_venues['venue.categories'] = SGnearby_venues.apply(get_category_type, axis=1)\n",
    "\n",
    "# clean columns\n",
    "SGnearby_venues.columns = [col.split(\".\")[-1] for col in SGnearby_venues.columns]\n",
    "\n",
    "SGnearby_venues.head(10)"
   ]
  },
  {
   "cell_type": "code",
   "execution_count": 22,
   "metadata": {},
   "outputs": [
    {
     "data": {
      "text/html": [
       "<div style=\"width:100%;\"><div style=\"position:relative;width:100%;height:0;padding-bottom:60%;\"><iframe src=\"data:text/html;charset=utf-8;base64,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\" style=\"position:absolute;width:100%;height:100%;left:0;top:0;border:none !important;\" allowfullscreen webkitallowfullscreen mozallowfullscreen></iframe></div></div>"
      ],
      "text/plain": [
       "<folium.folium.Map at 0x7fd070636940>"
      ]
     },
     "execution_count": 22,
     "metadata": {},
     "output_type": "execute_result"
    }
   ],
   "source": [
    "# create map of Singapore place  using latitude and longitude values\n",
    "map_sg = folium.Map(location=[latitude, longitude], zoom_start=20)\n",
    "\n",
    "# add markers to map\n",
    "for lat, lng, label in zip(SGnearby_venues['lat'], SGnearby_venues['lng'], SGnearby_venues['name']):\n",
    "    label = folium.Popup(label, parse_html=True)\n",
    "    folium.RegularPolygonMarker(\n",
    "        [lat, lng],\n",
    "        number_of_sides=4,\n",
    "        radius=10,\n",
    "        popup=label,\n",
    "        color='blue',\n",
    "        fill_color='#0f0f0f',\n",
    "        fill_opacity=0.7,\n",
    "    ).add_to(map_sg)  \n",
    "    \n",
    "map_sg"
   ]
  }
 ],
 "metadata": {
  "kernelspec": {
   "display_name": "Python 3",
   "language": "python",
   "name": "python3"
  },
  "language_info": {
   "codemirror_mode": {
    "name": "ipython",
    "version": 3
   },
   "file_extension": ".py",
   "mimetype": "text/x-python",
   "name": "python",
   "nbconvert_exporter": "python",
   "pygments_lexer": "ipython3",
   "version": "3.6.8"
  }
 },
 "nbformat": 4,
 "nbformat_minor": 2
}
